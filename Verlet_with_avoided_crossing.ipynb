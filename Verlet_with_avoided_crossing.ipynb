{
 "cells": [
  {
   "cell_type": "code",
   "execution_count": 3,
   "metadata": {},
   "outputs": [],
   "source": [
    "# import libraries \n",
    "\n",
    "import numpy as np\n",
    "import matplotlib.pyplot as plt\n",
    "from scipy import interpolate\n",
    "%matplotlib inline\n",
    "import random"
   ]
  },
  {
   "cell_type": "code",
   "execution_count": 4,
   "metadata": {},
   "outputs": [],
   "source": [
    "# function definitions \n",
    "\n",
    "def derive(f,x,h):\n",
    "    \n",
    "    return (f(x+h) - f(x-h))/(2*h)\n",
    "\n",
    "def derive_twice(f,x,h):\n",
    "    \n",
    "    return ( f(x+h) - 2*f(x) + f(x-h) ) / (h**2)\n",
    "\n",
    "def create_interp(x,V):\n",
    "    \n",
    "    f = interpolate.interp1d(x,V,kind=\"cubic\",fill_value=\"extrapolate\")\n",
    "    \n",
    "    return f"
   ]
  },
  {
   "cell_type": "code",
   "execution_count": 45,
   "metadata": {},
   "outputs": [],
   "source": [
    "def Verlet (x_data,E_data,i,m,x0,v0,tmax,dt,b):\n",
    "    \n",
    "    t = 0; x = x0; v = v0\n",
    "    \n",
    "    #V_init = create_interp(x_data,E_data[i]) \n",
    "    \n",
    "    V_set = [elem for elem in E_data] \n",
    "    \n",
    "    pos = []; vel = []; energy = []; time = []; pot = []; \n",
    "    \n",
    "    j = i\n",
    "    \n",
    "    L = m * b * v0 # v_inf ?= v0\n",
    "    \n",
    "    \n",
    "    V_current = create_interp(x_data,V_set[j])\n",
    "    \n",
    "    a = -derive(V_current,x,dt)/m + (L**2 /(m**2 * x**3)) # additional term coming from the central potential\n",
    "    \n",
    "    \n",
    "    while(t<tmax):                     \n",
    "            \n",
    "            V_current = create_interp(x_data,V_set[j])\n",
    "            \n",
    "            x_tmp = x\n",
    "            x = x_tmp + v*dt + 0.5*(dt)**2 * a\n",
    "            \n",
    "            a_tmp = a\n",
    "            a = -derive(V_current,x,dt)/m + (L**2 /(m**2 * x**3))\n",
    "            \n",
    "            v_tmp = v\n",
    "            v = v_tmp + 0.5*(dt)*(a + a_tmp)\n",
    "            T = 0.5*m*v**2\n",
    "            \n",
    "            for k in range(len(V_set)):\n",
    "                \n",
    "                if k == j:\n",
    "                    continue\n",
    "                \n",
    "                V_hop = create_interp(x_data,V_set[k])\n",
    "                \n",
    "                V_diff = V_current(x) - V_hop(x)  \n",
    "                \n",
    "                dV_diff = derive(V_current,x,dt) - derive(V_hop,x,dt) \n",
    "                \n",
    "            \n",
    "                if dV_diff <= 1e-8: # when the derivative is effectively zero\n",
    "                    \n",
    "                    \n",
    "                    P_LZ = np.exp( (-np.pi/2) * (np.abs(V_diff))**3/2 * (3*np.abs( derive_twice(V_current,t+dt,dt) - derive_twice(V_hop,t+dt,dt) ) )**(-0.5) )              \n",
    "                    \n",
    "\n",
    "                    num = random.uniform(0,1)\n",
    "\n",
    "                    \n",
    "                    if P_LZ > num:\n",
    "                        \n",
    "                            \n",
    "                        v_aft = np.sqrt(v**2 + (2/m)*V_diff)     # rescale the velocity (?)\n",
    "                        T_aft = 0.5*v_aft**2\n",
    "\n",
    "                        if T_aft - (V_diff + T) <= 1e-8: #check the energy gap \n",
    "                            \n",
    "                            \n",
    "                            j = k\n",
    "                            T = T_aft\n",
    "                            \n",
    "                            print(\"Hopping to curve: \" , k)\n",
    "                            index = k\n",
    "                            break\n",
    "                            \n",
    "                        \n",
    "            \n",
    "            \n",
    "                \n",
    "            t = t + dt\n",
    "            \n",
    "            pos.append(x)\n",
    "        \n",
    "            vel.append(v)\n",
    "            \n",
    "            pot.append(V_current(x))\n",
    "           \n",
    "            energy.append(V_current(x) + T)\n",
    "            \n",
    "            time.append(t)\n",
    "            \n",
    "        \n",
    "    return(index)"
   ]
  },
  {
   "cell_type": "code",
   "execution_count": 46,
   "metadata": {},
   "outputs": [],
   "source": [
    "# the first column contains the position\n",
    "\n",
    "x_data = np.loadtxt(\"myData.txt\", delimiter=' ',skiprows=2)[:,0]       \n",
    "\n",
    "# other columns contain energy values\n",
    "\n",
    "E_data = [np.loadtxt(\"myData.txt\", delimiter=' ',skiprows=2)[:,i] for i in range(1,8)]"
   ]
  },
  {
   "cell_type": "code",
   "execution_count": 48,
   "metadata": {},
   "outputs": [
    {
     "name": "stdout",
     "output_type": "stream",
     "text": [
      "Choose the initial curve (0 for ground state): 6\n"
     ]
    }
   ],
   "source": [
    "i = int(input(\"Choose the initial curve (0 for ground state): \"))"
   ]
  },
  {
   "cell_type": "code",
   "execution_count": 49,
   "metadata": {
    "scrolled": true
   },
   "outputs": [
    {
     "name": "stdout",
     "output_type": "stream",
     "text": [
      "Initial kinetic energy: 1e3\n",
      "Impact parameter: 0.2\n"
     ]
    }
   ],
   "source": [
    "m_ccl = 1836.15*(35.453 * 12.0107)/(35.453 + 12.0107)\n",
    "E = float(input(\"Initial kinetic energy: \"))\n",
    "b = float(input(\"Impact parameter: \"))\n",
    "v_ccl = (2*E/m_ccl)**0.5\n",
    "x0 = -90"
   ]
  },
  {
   "cell_type": "code",
   "execution_count": 50,
   "metadata": {},
   "outputs": [
    {
     "name": "stdout",
     "output_type": "stream",
     "text": [
      "Hopping to curve:  5\n"
     ]
    },
    {
     "name": "stderr",
     "output_type": "stream",
     "text": [
      "/opt/anaconda3/lib/python3.7/site-packages/ipykernel_launcher.py:50: RuntimeWarning: divide by zero encountered in double_scalars\n"
     ]
    },
    {
     "name": "stdout",
     "output_type": "stream",
     "text": [
      "Hopping to curve:  6\n",
      "Hopping to curve:  5\n",
      "Hopping to curve:  4\n",
      "Hopping to curve:  6\n",
      "Hopping to curve:  5\n",
      "Hopping to curve:  4\n",
      "Hopping to curve:  5\n",
      "Hopping to curve:  4\n",
      "Hopping to curve:  6\n",
      "Hopping to curve:  5\n",
      "Hopping to curve:  4\n",
      "Hopping to curve:  5\n",
      "Hopping to curve:  4\n",
      "Hopping to curve:  6\n"
     ]
    },
    {
     "data": {
      "text/plain": [
       "6"
      ]
     },
     "execution_count": 50,
     "metadata": {},
     "output_type": "execute_result"
    }
   ],
   "source": [
    "Verlet(x_data,E_data,i,m_ccl,x0,v_ccl,180/v_ccl,0.01,b)"
   ]
  },
  {
   "cell_type": "code",
   "execution_count": null,
   "metadata": {},
   "outputs": [],
   "source": [
    "# Return the index of the last state for 100 trajectories\n",
    "\n",
    "for elem in range(100):\n",
    "    ind = []\n",
    "    ind.append(Verlet(x_data,E_data,i,m_ccl,x0,v_ccl,180/v_ccl,0.01,b))"
   ]
  },
  {
   "cell_type": "code",
   "execution_count": null,
   "metadata": {},
   "outputs": [],
   "source": [
    "# Probability of hopping to each state\n",
    "\n",
    "P_i = []\n",
    "for num in range(7):\n",
    "    P_i.append(ind.count(num) / len(ind))"
   ]
  }
 ],
 "metadata": {
  "kernelspec": {
   "display_name": "Python 3",
   "language": "python",
   "name": "python3"
  },
  "language_info": {
   "codemirror_mode": {
    "name": "ipython",
    "version": 3
   },
   "file_extension": ".py",
   "mimetype": "text/x-python",
   "name": "python",
   "nbconvert_exporter": "python",
   "pygments_lexer": "ipython3",
   "version": "3.7.4"
  }
 },
 "nbformat": 4,
 "nbformat_minor": 2
}
